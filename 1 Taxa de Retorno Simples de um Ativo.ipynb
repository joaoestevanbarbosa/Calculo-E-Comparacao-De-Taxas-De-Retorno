{
 "cells": [
  {
   "cell_type": "code",
   "execution_count": null,
   "id": "a0b205c3",
   "metadata": {},
   "outputs": [],
   "source": [
    "import numpy as np\n",
    "from pandas_datareader import data as wb\n",
    "import matplotlib.pyplot as plt"
   ]
  },
  {
   "cell_type": "code",
   "execution_count": 15,
   "id": "3b456f4b",
   "metadata": {},
   "outputs": [],
   "source": [
    "## Exemplo usando a P&G com fonte datareader do yahoo\n",
    "PG = wb.DataReader('PG', data_source='yahoo', start='1995-1-1')"
   ]
  },
  {
   "cell_type": "code",
   "execution_count": 13,
   "id": "b289ec52",
   "metadata": {},
   "outputs": [
    {
     "data": {
      "text/html": [
       "<div>\n",
       "<style scoped>\n",
       "    .dataframe tbody tr th:only-of-type {\n",
       "        vertical-align: middle;\n",
       "    }\n",
       "\n",
       "    .dataframe tbody tr th {\n",
       "        vertical-align: top;\n",
       "    }\n",
       "\n",
       "    .dataframe thead th {\n",
       "        text-align: right;\n",
       "    }\n",
       "</style>\n",
       "<table border=\"1\" class=\"dataframe\">\n",
       "  <thead>\n",
       "    <tr style=\"text-align: right;\">\n",
       "      <th></th>\n",
       "      <th>High</th>\n",
       "      <th>Low</th>\n",
       "      <th>Open</th>\n",
       "      <th>Close</th>\n",
       "      <th>Volume</th>\n",
       "      <th>Adj Close</th>\n",
       "    </tr>\n",
       "    <tr>\n",
       "      <th>Date</th>\n",
       "      <th></th>\n",
       "      <th></th>\n",
       "      <th></th>\n",
       "      <th></th>\n",
       "      <th></th>\n",
       "      <th></th>\n",
       "    </tr>\n",
       "  </thead>\n",
       "  <tbody>\n",
       "    <tr>\n",
       "      <th>1995-01-03</th>\n",
       "      <td>15.62500</td>\n",
       "      <td>15.43750</td>\n",
       "      <td>15.46875</td>\n",
       "      <td>15.59375</td>\n",
       "      <td>3318400.0</td>\n",
       "      <td>8.014160</td>\n",
       "    </tr>\n",
       "    <tr>\n",
       "      <th>1995-01-04</th>\n",
       "      <td>15.65625</td>\n",
       "      <td>15.31250</td>\n",
       "      <td>15.53125</td>\n",
       "      <td>15.46875</td>\n",
       "      <td>2218800.0</td>\n",
       "      <td>7.949919</td>\n",
       "    </tr>\n",
       "    <tr>\n",
       "      <th>1995-01-05</th>\n",
       "      <td>15.43750</td>\n",
       "      <td>15.21875</td>\n",
       "      <td>15.37500</td>\n",
       "      <td>15.25000</td>\n",
       "      <td>2319600.0</td>\n",
       "      <td>7.837494</td>\n",
       "    </tr>\n",
       "    <tr>\n",
       "      <th>1995-01-06</th>\n",
       "      <td>15.40625</td>\n",
       "      <td>15.15625</td>\n",
       "      <td>15.15625</td>\n",
       "      <td>15.28125</td>\n",
       "      <td>3438000.0</td>\n",
       "      <td>7.853552</td>\n",
       "    </tr>\n",
       "    <tr>\n",
       "      <th>1995-01-09</th>\n",
       "      <td>15.40625</td>\n",
       "      <td>15.18750</td>\n",
       "      <td>15.34375</td>\n",
       "      <td>15.21875</td>\n",
       "      <td>1795200.0</td>\n",
       "      <td>7.821426</td>\n",
       "    </tr>\n",
       "  </tbody>\n",
       "</table>\n",
       "</div>"
      ],
      "text/plain": [
       "                High       Low      Open     Close     Volume  Adj Close\n",
       "Date                                                                    \n",
       "1995-01-03  15.62500  15.43750  15.46875  15.59375  3318400.0   8.014160\n",
       "1995-01-04  15.65625  15.31250  15.53125  15.46875  2218800.0   7.949919\n",
       "1995-01-05  15.43750  15.21875  15.37500  15.25000  2319600.0   7.837494\n",
       "1995-01-06  15.40625  15.15625  15.15625  15.28125  3438000.0   7.853552\n",
       "1995-01-09  15.40625  15.18750  15.34375  15.21875  1795200.0   7.821426"
      ]
     },
     "execution_count": 13,
     "metadata": {},
     "output_type": "execute_result"
    }
   ],
   "source": [
    "PG.head() #Dias iniciais"
   ]
  },
  {
   "cell_type": "code",
   "execution_count": 12,
   "id": "c07b7f8f",
   "metadata": {},
   "outputs": [
    {
     "data": {
      "text/html": [
       "<div>\n",
       "<style scoped>\n",
       "    .dataframe tbody tr th:only-of-type {\n",
       "        vertical-align: middle;\n",
       "    }\n",
       "\n",
       "    .dataframe tbody tr th {\n",
       "        vertical-align: top;\n",
       "    }\n",
       "\n",
       "    .dataframe thead th {\n",
       "        text-align: right;\n",
       "    }\n",
       "</style>\n",
       "<table border=\"1\" class=\"dataframe\">\n",
       "  <thead>\n",
       "    <tr style=\"text-align: right;\">\n",
       "      <th></th>\n",
       "      <th>High</th>\n",
       "      <th>Low</th>\n",
       "      <th>Open</th>\n",
       "      <th>Close</th>\n",
       "      <th>Volume</th>\n",
       "      <th>Adj Close</th>\n",
       "    </tr>\n",
       "    <tr>\n",
       "      <th>Date</th>\n",
       "      <th></th>\n",
       "      <th></th>\n",
       "      <th></th>\n",
       "      <th></th>\n",
       "      <th></th>\n",
       "      <th></th>\n",
       "    </tr>\n",
       "  </thead>\n",
       "  <tbody>\n",
       "    <tr>\n",
       "      <th>2021-12-20</th>\n",
       "      <td>158.460007</td>\n",
       "      <td>156.570007</td>\n",
       "      <td>156.600006</td>\n",
       "      <td>157.860001</td>\n",
       "      <td>9202600.0</td>\n",
       "      <td>157.860001</td>\n",
       "    </tr>\n",
       "    <tr>\n",
       "      <th>2021-12-21</th>\n",
       "      <td>158.149994</td>\n",
       "      <td>156.789993</td>\n",
       "      <td>157.649994</td>\n",
       "      <td>157.759995</td>\n",
       "      <td>6946000.0</td>\n",
       "      <td>157.759995</td>\n",
       "    </tr>\n",
       "    <tr>\n",
       "      <th>2021-12-22</th>\n",
       "      <td>159.580002</td>\n",
       "      <td>157.270004</td>\n",
       "      <td>157.770004</td>\n",
       "      <td>159.320007</td>\n",
       "      <td>6626300.0</td>\n",
       "      <td>159.320007</td>\n",
       "    </tr>\n",
       "    <tr>\n",
       "      <th>2021-12-23</th>\n",
       "      <td>160.919998</td>\n",
       "      <td>159.440002</td>\n",
       "      <td>159.500000</td>\n",
       "      <td>160.100006</td>\n",
       "      <td>5640900.0</td>\n",
       "      <td>160.100006</td>\n",
       "    </tr>\n",
       "    <tr>\n",
       "      <th>2021-12-27</th>\n",
       "      <td>161.990005</td>\n",
       "      <td>160.610001</td>\n",
       "      <td>160.669998</td>\n",
       "      <td>161.940002</td>\n",
       "      <td>3791658.0</td>\n",
       "      <td>161.940002</td>\n",
       "    </tr>\n",
       "  </tbody>\n",
       "</table>\n",
       "</div>"
      ],
      "text/plain": [
       "                  High         Low        Open       Close     Volume  \\\n",
       "Date                                                                    \n",
       "2021-12-20  158.460007  156.570007  156.600006  157.860001  9202600.0   \n",
       "2021-12-21  158.149994  156.789993  157.649994  157.759995  6946000.0   \n",
       "2021-12-22  159.580002  157.270004  157.770004  159.320007  6626300.0   \n",
       "2021-12-23  160.919998  159.440002  159.500000  160.100006  5640900.0   \n",
       "2021-12-27  161.990005  160.610001  160.669998  161.940002  3791658.0   \n",
       "\n",
       "             Adj Close  \n",
       "Date                    \n",
       "2021-12-20  157.860001  \n",
       "2021-12-21  157.759995  \n",
       "2021-12-22  159.320007  \n",
       "2021-12-23  160.100006  \n",
       "2021-12-27  161.940002  "
      ]
     },
     "execution_count": 12,
     "metadata": {},
     "output_type": "execute_result"
    }
   ],
   "source": [
    "PG.tail() #dias finais"
   ]
  },
  {
   "cell_type": "code",
   "execution_count": 17,
   "id": "646bb96b",
   "metadata": {},
   "outputs": [
    {
     "name": "stdout",
     "output_type": "stream",
     "text": [
      "Date\n",
      "1995-01-03         NaN\n",
      "1995-01-04   -0.008015\n",
      "1995-01-05   -0.014142\n",
      "1995-01-06    0.002049\n",
      "1995-01-09   -0.004090\n",
      "                ...   \n",
      "2021-12-20    0.002540\n",
      "2021-12-21   -0.000634\n",
      "2021-12-22    0.009889\n",
      "2021-12-23    0.004896\n",
      "2021-12-27    0.011493\n",
      "Name: simple return, Length: 6795, dtype: float64\n"
     ]
    }
   ],
   "source": [
    "## pandas.DataFrame.shift (# de voltas), onde mudamos o índice por #, no casso o .shift(1) é \n",
    "##pra calcular em relação ao dia anterior\n",
    "PG['simple return'] = (PG['Adj Close'] / PG ['Adj Close'].shift(1)) - 1\n",
    "print (PG['simple return'])"
   ]
  },
  {
   "cell_type": "code",
   "execution_count": 18,
   "id": "e7b131d3",
   "metadata": {},
   "outputs": [
    {
     "data": {
      "image/png": "[encoded data removed]",
      "text/plain": [
       "<Figure size 576x360 with 1 Axes>"
      ]
     },
     "metadata": {
      "needs_background": "light"
     },
     "output_type": "display_data"
    }
   ],
   "source": [
    "## criando gráfico inicial\n",
    "PG['simple return'].plot(figsize=(8,5))\n",
    "plt.show();"
   ]
  },
  {
   "cell_type": "code",
   "execution_count": 21,
   "id": "92b9be1f",
   "metadata": {},
   "outputs": [
    {
     "data": {
      "text/plain": [
       "0.000542726696677201"
      ]
     },
     "execution_count": 21,
     "metadata": {},
     "output_type": "execute_result"
    }
   ],
   "source": [
    "## pandas.DataFrame.mean() - calcula a taxa de retorno da média diária\n",
    "avg_returns_d = PG['simple return'].mean();\n",
    "avg_returns_d"
   ]
  },
  {
   "cell_type": "code",
   "execution_count": 24,
   "id": "9167ba4b",
   "metadata": {},
   "outputs": [
    {
     "data": {
      "text/plain": [
       "0.13568167416930024"
      ]
     },
     "execution_count": 24,
     "metadata": {},
     "output_type": "execute_result"
    }
   ],
   "source": [
    "## multiplicando por 250 dias úteis para ter uma noção do retorno da média anual\n",
    "avg_returns_a = PG['simple return'].mean() * 250;\n",
    "avg_returns_a"
   ]
  },
  {
   "cell_type": "code",
   "execution_count": 26,
   "id": "e8dcd1f8",
   "metadata": {},
   "outputs": [
    {
     "name": "stdout",
     "output_type": "stream",
     "text": [
      "13.568%\n"
     ]
    }
   ],
   "source": [
    " ## transformando em string, arrendondando e colocando %\n",
    "print(str(round(avg_returns_a, 5) * 100) + '%') "
   ]
  }
 ],
 "metadata": {
  "kernelspec": {
   "display_name": "Python 3 (ipykernel)",
   "language": "python",
   "name": "python3"
  },
  "language_info": {
   "codemirror_mode": {
    "name": "ipython",
    "version": 3
   },
   "file_extension": ".py",
   "mimetype": "text/x-python",
   "name": "python",
   "nbconvert_exporter": "python",
   "pygments_lexer": "ipython3",
   "version": "3.9.7"
  }
 },
 "nbformat": 4,
 "nbformat_minor": 5
}
